{
 "cells": [
  {
   "cell_type": "code",
   "execution_count": 1,
   "metadata": {},
   "outputs": [],
   "source": [
    "import csv\n",
    "\n",
    "with open('/home/sarrah/clean/CLEAN/app/testing/data/caspedia_entry_list.csv', 'r') as csv_file:\n",
    "    reader = csv.DictReader(csv_file)\n",
    "    \n",
    "    with open('/home/sarrah/clean/CLEAN/app/testing/data/newdataset.fasta', 'w') as fasta_file:\n",
    "        for row in reader:\n",
    "            # Get the protein accession and sequence\n",
    "            accession = row['Protein_Accession']\n",
    "            sequence = row['Protein_Sequence']\n",
    "            \n",
    "            # Write the FASTA header and sequence\n",
    "            fasta_file.write(f'>{accession}\\n{sequence}\\n')"
   ]
  },
  {
   "cell_type": "code",
   "execution_count": 1,
   "metadata": {},
   "outputs": [],
   "source": [
    "def convert_uniprot_fasta(input_file, output_file):\n",
    "    write_line = False\n",
    "    \n",
    "    with open(input_file, 'r') as infile, open(output_file, 'w') as outfile:\n",
    "        for line in infile:\n",
    "            if line.startswith('>'):\n",
    "                # Extract the protein accession number\n",
    "                accession = line.split('|')[1]\n",
    "                outfile.write(f\">{accession}\\n\")\n",
    "                write_line = True\n",
    "            elif write_line:\n",
    "                outfile.write(line)"
   ]
  },
  {
   "cell_type": "code",
   "execution_count": 2,
   "metadata": {},
   "outputs": [],
   "source": [
    "convert_uniprot_fasta('/home/sarrah/clean/CLEAN/app/testing/data/unreviewed-28june/uniprotkb_accession_A0A0A8K9B1_OR_access_2024_06_28.fasta', 'unreviewed_1.fasta')"
   ]
  },
  {
   "cell_type": "code",
   "execution_count": 6,
   "metadata": {},
   "outputs": [],
   "source": [
    "convert_uniprot_fasta('/home/sarrah/clean/CLEAN/app/testing/data/unreviewed-28june/uniprotkb_AND_reviewed_false_AND_model_2024_06_28.fasta', '/home/sarrah/clean/CLEAN/app/testing/data/unreviewed-28june/unreviewed_3.fasta')"
   ]
  },
  {
   "cell_type": "code",
   "execution_count": 11,
   "metadata": {},
   "outputs": [],
   "source": [
    "def convert_fasta_max(input_file, output_file, max_sequences=500):\n",
    "    sequence_count = 0\n",
    "    write_line = False\n",
    "    \n",
    "    with open(input_file, 'r') as infile, open(output_file, 'w') as outfile:\n",
    "        for line in infile:\n",
    "            if line.startswith('>'):\n",
    "                if sequence_count >= max_sequences:\n",
    "                    break\n",
    "                sequence_count += 1\n",
    "                # Extract the protein accession number\n",
    "                accession = line.split('|')[1]\n",
    "                outfile.write(f\">{accession}\\n\")\n",
    "                write_line = True\n",
    "            elif write_line:\n",
    "                outfile.write(line)\n",
    "\n",
    "# Replace 'original.fasta' with the path to your input file\n",
    "# Replace 'converted.fasta' with the desired path for your output file\n",
    "\n",
    "convert_fasta('/home/sarrah/clean/CLEAN/app/testing/data/uniprotkb_RNA_guided_2024_06_27.fasta', '/home/sarrah/clean/CLEAN/app/testing/data/uniprot_rnaguided.fasta')\n"
   ]
  },
  {
   "cell_type": "code",
   "execution_count": 14,
   "metadata": {},
   "outputs": [],
   "source": [
    "def merge_fastas(output_filename, *args ):\n",
    "    with open(output_filename, 'w') as out_file:\n",
    "        for file in args:\n",
    "            with open(file, 'r') as f:\n",
    "                out_file.write(f.read())"
   ]
  },
  {
   "cell_type": "code",
   "execution_count": 15,
   "metadata": {},
   "outputs": [],
   "source": [
    "merge_fastas('/home/sarrah/clean/CLEAN/app/testing/data/unreviewed-28june/unreviewed_merged.fasta',\n",
    "            '/home/sarrah/clean/CLEAN/app/testing/data/unreviewed-28june/unreviewed_1.fasta',\n",
    "             '/home/sarrah/clean/CLEAN/app/testing/data/unreviewed-28june/unreviewed_2.fasta',\n",
    "             '/home/sarrah/clean/CLEAN/app/testing/data/unreviewed-28june/unreviewed_3.fasta')"
   ]
  }
 ],
 "metadata": {
  "kernelspec": {
   "display_name": "clean",
   "language": "python",
   "name": "python3"
  },
  "language_info": {
   "codemirror_mode": {
    "name": "ipython",
    "version": 3
   },
   "file_extension": ".py",
   "mimetype": "text/x-python",
   "name": "python",
   "nbconvert_exporter": "python",
   "pygments_lexer": "ipython3",
   "version": "3.10.4"
  }
 },
 "nbformat": 4,
 "nbformat_minor": 2
}
